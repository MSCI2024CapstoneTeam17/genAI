{
 "cells": [
  {
   "cell_type": "code",
   "execution_count": 11,
   "metadata": {},
   "outputs": [
    {
     "name": "stdout",
     "output_type": "stream",
     "text": [
      "Collecting tabulate\n",
      "  Downloading tabulate-0.9.0-py3-none-any.whl (35 kB)\n",
      "Installing collected packages: tabulate\n",
      "Successfully installed tabulate-0.9.0\n"
     ]
    },
    {
     "name": "stderr",
     "output_type": "stream",
     "text": [
      "WARNING: You are using pip version 21.1.3; however, version 23.1.2 is available.\n",
      "You should consider upgrading via the 'c:\\users\\liged\\chatgptpoc\\env\\scripts\\python.exe -m pip install --upgrade pip' command.\n"
     ]
    }
   ],
   "source": [
    "! pip install tabulate"
   ]
  },
  {
   "cell_type": "code",
   "execution_count": 3,
   "metadata": {},
   "outputs": [],
   "source": [
    "from langchain.llms import OpenAI\n",
    "import os\n",
    "\n",
    "my_api_key = os.getenv(\"OPENAI_API_KEY\")\n"
   ]
  },
  {
   "cell_type": "code",
   "execution_count": 160,
   "metadata": {},
   "outputs": [],
   "source": [
    "from langchain.agents import create_pandas_dataframe_agent\n",
    "import pandas as pd\n",
    "import json\n",
    "import matplotlib.pyplot as plt\n",
    "\n",
    "class GraphAgent:\n",
    "\n",
    "    def __init__(self, llm_api_key: str):\n",
    "        self.llm_api_key = llm_api_key\n",
    "        \n",
    "    def create_agent(self, filename: str):\n",
    "        \"\"\"\n",
    "        Create an agent that can access and use a large language model (LLM).\n",
    "\n",
    "        Args:\n",
    "            filename: The path to the CSV file that contains the data.\n",
    "\n",
    "        Returns:\n",
    "            An agent that can access and use the LLM.\n",
    "        \"\"\"\n",
    "\n",
    "        self.llm = OpenAI(openai_api_key=self.llm_api_key)\n",
    "        df = pd.read_csv(filename)\n",
    "        self.agent = create_pandas_dataframe_agent(self.llm, df, verbose=False)\n",
    "        return self\n",
    "\n",
    "    def query_agent(self, query):\n",
    "        \"\"\"\n",
    "        Query an agent and return the response as a string.\n",
    "\n",
    "        Args:\n",
    "            agent: The agent to query.\n",
    "            query: The query to ask the agent.\n",
    "\n",
    "        Returns:\n",
    "            The response from the agent as a string.\n",
    "        \"\"\"\n",
    "\n",
    "        prompt = (\n",
    "            \"\"\"\n",
    "                For the query, if it requires drawing a table, reply as follows:\n",
    "                {\"table\": {\"columns\": [\"column1\", \"column2\", ...], \"data\": [[value1, value2, ...], [value1, value2, ...], ...]}}\n",
    "\n",
    "                If the query requires creating a bar chart, reply as follows:\n",
    "                {\"bar\": {\"columns\": [\"A\", \"B\", \"C\", ...], \"data\": [25, 24, 10, ...]}}\n",
    "                If the data is nested: \n",
    "                \"data\": [[n1, 25], [n2, 24], [n3, 10], ...]\n",
    "\n",
    "                If the query requires creating a line chart, reply as follows:\n",
    "                {\"line\": {\"columns\": [\"A\", \"B\", \"C\", ...], \"data\": [25, 24, 10, ...]}}\n",
    "                If the data is nested: \n",
    "                \"data\": [[n1, 25], [n2, 24], [n3, 10], ...]    \n",
    "                        \n",
    "                There can only be two types of chart, \"bar\" and \"line\".\n",
    "\n",
    "                If it is just asking a question that requires neither, reply as follows:\n",
    "                {\"answer\": \"answer\"}\n",
    "\n",
    "                Example:\n",
    "                {\"answer\": \"The title with the highest rating is 'Gilead'\"}\n",
    "\n",
    "                If you do not know the answer, reply as follows:\n",
    "                {\"answer\": \"I do not know.\"}\n",
    "\n",
    "                Return all output as a string.\n",
    "\n",
    "                All strings in \"columns\" list and data list, should be in double quotes,\n",
    "\n",
    "                For example: {\"columns\": [\"title\", \"ratings_count\"], \"data\": [[\"Gilead\", 361], [\"Spider's Web\", 5164]]}\n",
    "\n",
    "                Lets think step by step.\n",
    "\n",
    "                Below is the query.\n",
    "                Query: \n",
    "                \"\"\"\n",
    "            + query\n",
    "        )\n",
    "\n",
    "        response = self.agent.run(prompt)\n",
    "        self.response = response.__str__()\n",
    "\n",
    "    def graph(self):\n",
    "        response = json.loads(self.response)\n",
    "\n",
    "        # Check if the response is an answer.\n",
    "        if \"answer\" in response:\n",
    "            print(response[\"answer\"])\n",
    "\n",
    "        # Check if the response is a bar chart.\n",
    "        if \"bar\" in response:\n",
    "            data = response[\"bar\"]\n",
    "            df = pd.DataFrame.from_records(**data)\n",
    "            df.index = df[data[\"columns\"][0]]\n",
    "            df.plot(kind=\"bar\")\n",
    "\n",
    "        # Check if the response is a line chart.\n",
    "        if \"line\" in response:\n",
    "            data = response[\"line\"]\n",
    "            df = pd.DataFrame.from_records(**data)\n",
    "            df.index = df[data[\"columns\"][0]]\n",
    "            df.plot()\n",
    "            \n",
    "        # Check if the response is a table.\n",
    "        if \"table\" in response:\n",
    "            data = response[\"table\"]\n",
    "            df = pd.DataFrame(data[\"data\"], columns=data[\"columns\"])\n",
    "            display(df)\n"
   ]
  },
  {
   "cell_type": "code",
   "execution_count": 171,
   "metadata": {},
   "outputs": [],
   "source": [
    "graph_prompt = \"\"\"Plot a histogram or barchart of total ages of all NBA players use 14 buckets, plot from youngest to oldest\"\"\""
   ]
  },
  {
   "cell_type": "code",
   "execution_count": 172,
   "metadata": {},
   "outputs": [],
   "source": [
    "from pathlib import Path as P\n",
    "csvpath = P.cwd() / \"sample_data\" / \"all_seasons.csv\"\n",
    "agent = GraphAgent(my_api_key).create_agent(csvpath)\n",
    "agent.query_agent(graph_prompt)"
   ]
  },
  {
   "cell_type": "code",
   "execution_count": 173,
   "metadata": {},
   "outputs": [
    {
     "data": {
      "text/plain": [
       "'{\"bar\": {\"columns\": [\"age\", \"count\"], \"data\": [[18, 3], [19, 73], [20, 286], [21, 500], [22, 771], [23, 1164], [24, 1277], [25, 1141], [26, 1015], [27, 972], [28, 868], [29, 785], [30, 711], [31, 620], [32, 549], [33, 450], [34, 353], [35, 250], [36, 200], [37, 135], [38, 85], [39, 51], [40, 29], [41, 9], [42, 4], [43, 3], [44, 1]]}}'"
      ]
     },
     "execution_count": 173,
     "metadata": {},
     "output_type": "execute_result"
    }
   ],
   "source": [
    "agent.response"
   ]
  },
  {
   "cell_type": "code",
   "execution_count": 174,
   "metadata": {},
   "outputs": [],
   "source": [
    "with open(\"results.txt\", \"a+\") as f:\n",
    "    f.write(\"PROMPT:\" + graph_prompt + \"\\n\")\n",
    "    f.write(\"RESPONSE:\" + agent.response + \"\\n\")"
   ]
  },
  {
   "cell_type": "code",
   "execution_count": 175,
   "metadata": {},
   "outputs": [
    {
     "data": {
      "image/png": "[encoded data removed]",
      "text/plain": [
       "<Figure size 640x480 with 1 Axes>"
      ]
     },
     "metadata": {},
     "output_type": "display_data"
    }
   ],
   "source": [
    "agent.graph()"
   ]
  },
  {
   "cell_type": "code",
   "execution_count": 201,
   "metadata": {},
   "outputs": [
    {
     "data": {
      "text/plain": [
       "'https://oaidalleapiprodscus.blob.core.windows.net/private/org-S7EMI5sGwNHzs3coJHLnmomA/user-iaRe1zFJZBVHuDTGQ8FmtFc9/img-1xpArV4yZXkx9WR4WDTnifxj.png?st=2023-05-26T16%3A44%3A20Z&se=2023-05-26T18%3A44%3A20Z&sp=r&sv=2021-08-06&sr=b&rscd=inline&rsct=image/png&skoid=6aaadede-4fb3-4698-a8f6-684d7786b067&sktid=a48cca56-e6da-484e-a814-9c849652bcb3&skt=2023-05-26T14%3A46%3A30Z&ske=2023-05-27T14%3A46%3A30Z&sks=b&skv=2021-08-06&sig=%2BLOTwCqEuCelMQxV/nH%2B5egIIe87dp2XtuewNPraGOA%3D'"
      ]
     },
     "execution_count": 201,
     "metadata": {},
     "output_type": "execute_result"
    }
   ],
   "source": [
    "import openai\n",
    "\n",
    "response = openai.Image.create(\n",
    "  prompt=\"biryani\",\n",
    "  n=1,\n",
    "  size=\"1024x1024\"\n",
    ")\n",
    "image_url = response['data'][0]['url']\n",
    "image_url"
   ]
  }
 ],
 "metadata": {
  "kernelspec": {
   "display_name": "env",
   "language": "python",
   "name": "python3"
  },
  "language_info": {
   "codemirror_mode": {
    "name": "ipython",
    "version": 3
   },
   "file_extension": ".py",
   "mimetype": "text/x-python",
   "name": "python",
   "nbconvert_exporter": "python",
   "pygments_lexer": "ipython3",
   "version": "3.8.10"
  },
  "orig_nbformat": 4
 },
 "nbformat": 4,
 "nbformat_minor": 2
}
